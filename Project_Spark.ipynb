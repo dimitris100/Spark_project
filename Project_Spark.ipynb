{
  "nbformat": 4,
  "nbformat_minor": 0,
  "metadata": {
    "colab": {
      "provenance": [],
      "gpuType": "T4"
    },
    "kernelspec": {
      "name": "python3",
      "display_name": "Python 3"
    },
    "language_info": {
      "name": "python"
    },
    "accelerator": "GPU"
  },
  "cells": [
    {
      "cell_type": "markdown",
      "source": [
        "# Spark - Gas Consumption Mini Project - Big Data Processing with Spark - ENSAI - Dimitrios Fikos"
      ],
      "metadata": {
        "id": "j9pTEsuzJX7t"
      }
    },
    {
      "cell_type": "markdown",
      "source": [
        "## Download the data for Prices, Services and Stations"
      ],
      "metadata": {
        "id": "Ivt8ASI5cUbc"
      }
    },
    {
      "cell_type": "code",
      "source": [
        "! pip install pyspark\n",
        "import pyspark\n",
        "spark = pyspark.sql.SparkSession.builder.appName(\"GasPriceForecasting\").config(\"spark.executor.memory\", \"4g\").getOrCreate()\n",
        "\n",
        "spark"
      ],
      "metadata": {
        "colab": {
          "base_uri": "https://localhost:8080/",
          "height": 254
        },
        "id": "xApu4MCFdD8m",
        "outputId": "be27de23-0c0d-4746-9abe-ea00596cc6e5"
      },
      "execution_count": 2,
      "outputs": [
        {
          "output_type": "stream",
          "name": "stdout",
          "text": [
            "Requirement already satisfied: pyspark in /usr/local/lib/python3.10/dist-packages (3.5.0)\n",
            "Requirement already satisfied: py4j==0.10.9.7 in /usr/local/lib/python3.10/dist-packages (from pyspark) (0.10.9.7)\n"
          ]
        },
        {
          "output_type": "execute_result",
          "data": {
            "text/plain": [
              "<pyspark.sql.session.SparkSession at 0x7d9c36f49750>"
            ],
            "text/html": [
              "\n",
              "            <div>\n",
              "                <p><b>SparkSession - in-memory</b></p>\n",
              "                \n",
              "        <div>\n",
              "            <p><b>SparkContext</b></p>\n",
              "\n",
              "            <p><a href=\"http://324d30a738d2:4040\">Spark UI</a></p>\n",
              "\n",
              "            <dl>\n",
              "              <dt>Version</dt>\n",
              "                <dd><code>v3.5.0</code></dd>\n",
              "              <dt>Master</dt>\n",
              "                <dd><code>local[*]</code></dd>\n",
              "              <dt>AppName</dt>\n",
              "                <dd><code>GasPriceForecasting</code></dd>\n",
              "            </dl>\n",
              "        </div>\n",
              "        \n",
              "            </div>\n",
              "        "
            ]
          },
          "metadata": {},
          "execution_count": 2
        }
      ]
    },
    {
      "cell_type": "code",
      "source": [
        "#from google.colab import drive\n",
        "#drive.mount('/content/drive', force_remount=True)"
      ],
      "metadata": {
        "colab": {
          "base_uri": "https://localhost:8080/"
        },
        "id": "MBGw9j5xgh-7",
        "outputId": "de731848-87e9-4e2c-9e0f-246c63ba1e0f"
      },
      "execution_count": 3,
      "outputs": [
        {
          "output_type": "stream",
          "name": "stdout",
          "text": [
            "Mounted at /content/drive\n"
          ]
        }
      ]
    },
    {
      "cell_type": "code",
      "source": [
        "gas_path1 = \"/content/drive/MyDrive/Stations2022.csv\"\n",
        "gas_path2 = \"/content/drive/MyDrive/Services2022.csv\"\n",
        "gas_path3 = \"/content/drive/MyDrive/Prix2019.csv\"\n",
        "gas_path4 = \"/content/drive/MyDrive/Prix2020.csv\"\n",
        "gas_path5 = \"/content/drive/MyDrive/Prix2021.csv\"\n",
        "gas_path6 = \"/content/drive/MyDrive/Prix2022S1.csv\"\n",
        "gas_path7 = \"/content/drive/MyDrive/Prix2022S2.csv\"\n",
        "gas_path8 = \"/content/drive/MyDrive/Prix2023.csv\"\n",
        "\n"
      ],
      "metadata": {
        "id": "WX0hbbg-bAIF"
      },
      "execution_count": 4,
      "outputs": []
    },
    {
      "cell_type": "code",
      "source": [
        "#Add the headers to each csv\n",
        "\n",
        "columns_Stations = [\"id_pdv\", \"zip_code\", \"pop\", \"latitude\",\"longitude\",\"address\",\"city\"]\n",
        "columns_Services = [\"id_pdv\", \"zip_code\", \"pop\", \"latitude\",\"longitude\",\"services\"]\n",
        "columns_Prices = [\"id_pdv\", \"zip_code\", \"pop\", \"latitude\",\"longitude\",\"date\",\"gas_id\",\"gas_label\",\"price\"]"
      ],
      "metadata": {
        "id": "51jQQtzZEtMG"
      },
      "execution_count": 5,
      "outputs": []
    },
    {
      "cell_type": "code",
      "source": [
        "# convert the 8 csv to dataframes to work wit spark\n",
        "df_Stations = spark.read.csv(gas_path1,sep='|', header=False, inferSchema=True).toDF(*columns_Stations)\n",
        "df_Services = spark.read.csv(gas_path2,sep='|',header=False, inferSchema=True).toDF(*columns_Services)\n",
        "df_Price2019 = spark.read.csv(gas_path3,sep=';', header=False, inferSchema=True).toDF(*columns_Prices)\n",
        "df_Price2020 = spark.read.csv(gas_path4, sep=';',header=False, inferSchema=True).toDF(*columns_Prices)\n",
        "df_Price2021 = spark.read.csv(gas_path5, sep=';',header=False, inferSchema=True).toDF(*columns_Prices)\n",
        "df_Price2022a = spark.read.csv(gas_path6,sep=';', header=False, inferSchema=True).toDF(*columns_Prices)\n",
        "df_Price2022b = spark.read.csv(gas_path7, sep=';',header=False, inferSchema=True).toDF(*columns_Prices)\n",
        "df_Price2023 = spark.read.csv(gas_path8, sep=';',header=False, inferSchema=True).toDF(*columns_Prices)"
      ],
      "metadata": {
        "id": "EzAzGNdgEtCu"
      },
      "execution_count": 6,
      "outputs": []
    },
    {
      "cell_type": "markdown",
      "source": [
        "## Data Preparation 1"
      ],
      "metadata": {
        "id": "CkXzF7yHpBg_"
      }
    },
    {
      "cell_type": "markdown",
      "source": [
        "Read the data to see potential problems. For the prices of 2022 and 2023 I multiply them with 1000 so as to be the same with the prices of 2019, 2020, 2021. (Of course the actual prices are in decimal type and not in thousands but for the structure of this project it was easier to work with thousands)"
      ],
      "metadata": {
        "id": "Zez_zRakkXRK"
      }
    },
    {
      "cell_type": "code",
      "source": [
        "df_Stations.show(5)\n"
      ],
      "metadata": {
        "colab": {
          "base_uri": "https://localhost:8080/"
        },
        "id": "vYbsnNgRkBG6",
        "outputId": "72ee41bd-bf05-4a3c-b278-e3d6cbc1d1b5"
      },
      "execution_count": 7,
      "outputs": [
        {
          "output_type": "stream",
          "name": "stdout",
          "text": [
            "+-------+--------+---+-------------+-------------+--------------------+--------------------+\n",
            "| id_pdv|zip_code|pop|     latitude|    longitude|             address|                city|\n",
            "+-------+--------+---+-------------+-------------+--------------------+--------------------+\n",
            "|1000001|    1000|  R|    4620100.0|     519800.0|596 AVENUE DE TRE...|SAINT-DENIS-LèS-B...|\n",
            "|1000002|    1000|  R|    4621842.0|     522767.0| 16 Avenue de Marboz|     BOURG-EN-BRESSE|\n",
            "|1000004|    1000|  R|    4618800.0|     524500.0|20 Avenue du Maré...|     Bourg-en-Bresse|\n",
            "|1000005|    1000|  R|4620093.59235|519942.024022|642 Avenue de Tré...|SAINT-DENIS-LèS-B...|\n",
            "|1000006|    1000|  R|    4620754.0|     523758.0|1 Boulevard John ...|     BOURG-EN-BRESSE|\n",
            "+-------+--------+---+-------------+-------------+--------------------+--------------------+\n",
            "only showing top 5 rows\n",
            "\n"
          ]
        }
      ]
    },
    {
      "cell_type": "code",
      "source": [
        "df_Services.show(5)"
      ],
      "metadata": {
        "colab": {
          "base_uri": "https://localhost:8080/"
        },
        "id": "IjRpjWI8kfXB",
        "outputId": "37003f80-1042-495e-aa3c-9b66f940bc4a"
      },
      "execution_count": 8,
      "outputs": [
        {
          "output_type": "stream",
          "name": "stdout",
          "text": [
            "+-------+--------+---+-------------+-------------+--------------------+\n",
            "| id_pdv|zip_code|pop|     latitude|    longitude|            services|\n",
            "+-------+--------+---+-------------+-------------+--------------------+\n",
            "|1000001|    1000|  R|    4620100.0|     519800.0|Station de gonfla...|\n",
            "|1000002|    1000|  R|    4621842.0|     522767.0|Vente de gaz dome...|\n",
            "|1000004|    1000|  R|    4618800.0|     524500.0|Toilettes publiqu...|\n",
            "|1000005|    1000|  R|4620093.59235|519942.024022|Boutique alimenta...|\n",
            "|1000006|    1000|  R|    4620754.0|     523758.0|Vente de gaz dome...|\n",
            "+-------+--------+---+-------------+-------------+--------------------+\n",
            "only showing top 5 rows\n",
            "\n"
          ]
        }
      ]
    },
    {
      "cell_type": "code",
      "source": [
        "from pyspark.sql.functions import col\n",
        "df_Price2019.show(5)"
      ],
      "metadata": {
        "colab": {
          "base_uri": "https://localhost:8080/"
        },
        "id": "LJPo4OxPJqux",
        "outputId": "795572cc-c065-4dc0-9915-1e28df44252f"
      },
      "execution_count": 9,
      "outputs": [
        {
          "output_type": "stream",
          "name": "stdout",
          "text": [
            "+-------+--------+---+---------+---------+-------------------+------+---------+-----+\n",
            "| id_pdv|zip_code|pop| latitude|longitude|               date|gas_id|gas_label|price|\n",
            "+-------+--------+---+---------+---------+-------------------+------+---------+-----+\n",
            "|1000001|    1000|  R|4620114.0| 519791.0|2019-01-04 10:53:48|     1|   Gazole| 1328|\n",
            "|1000001|    1000|  R|4620114.0| 519791.0|2019-01-07 10:25:25|     1|   Gazole| 1348|\n",
            "|1000001|    1000|  R|4620114.0| 519791.0|2019-01-10 08:54:28|     1|   Gazole| 1374|\n",
            "|1000001|    1000|  R|4620114.0| 519791.0|2019-01-11 10:01:54|     1|   Gazole| 1387|\n",
            "|1000001|    1000|  R|4620114.0| 519791.0|2019-01-14 11:04:53|     1|   Gazole| 1394|\n",
            "+-------+--------+---+---------+---------+-------------------+------+---------+-----+\n",
            "only showing top 5 rows\n",
            "\n"
          ]
        }
      ]
    },
    {
      "cell_type": "code",
      "source": [
        "df_Price2020.show(5)"
      ],
      "metadata": {
        "colab": {
          "base_uri": "https://localhost:8080/"
        },
        "id": "Kfvme4xjKK1T",
        "outputId": "8d9bb21c-7214-4782-f7fa-c2266855dcdc"
      },
      "execution_count": 10,
      "outputs": [
        {
          "output_type": "stream",
          "name": "stdout",
          "text": [
            "+-------+--------+---+---------+---------+-------------------+------+---------+-----+\n",
            "| id_pdv|zip_code|pop| latitude|longitude|               date|gas_id|gas_label|price|\n",
            "+-------+--------+---+---------+---------+-------------------+------+---------+-----+\n",
            "|1000001|    1000|  R|4620114.0| 519791.0|2020-01-03 10:36:03|     1|   Gazole| 1442|\n",
            "|1000001|    1000|  R|4620114.0| 519791.0|2020-01-06 10:36:17|     1|   Gazole| 1443|\n",
            "|1000001|    1000|  R|4620114.0| 519791.0|2020-01-07 10:48:14|     1|   Gazole| 1458|\n",
            "|1000001|    1000|  R|4620114.0| 519791.0|2020-01-28 15:18:55|     1|   Gazole| 1456|\n",
            "|1000001|    1000|  R|4620114.0| 519791.0|2020-01-30 10:13:59|     1|   Gazole| 1431|\n",
            "+-------+--------+---+---------+---------+-------------------+------+---------+-----+\n",
            "only showing top 5 rows\n",
            "\n"
          ]
        }
      ]
    },
    {
      "cell_type": "code",
      "source": [
        "df_Price2021.show(5)"
      ],
      "metadata": {
        "colab": {
          "base_uri": "https://localhost:8080/"
        },
        "id": "8NoemYFmOhXq",
        "outputId": "f15a0337-5870-4554-d6b6-35c39cd6fba1"
      },
      "execution_count": 11,
      "outputs": [
        {
          "output_type": "stream",
          "name": "stdout",
          "text": [
            "+-------+--------+---+---------+---------+-------------------+------+---------+-----+\n",
            "| id_pdv|zip_code|pop| latitude|longitude|               date|gas_id|gas_label|price|\n",
            "+-------+--------+---+---------+---------+-------------------+------+---------+-----+\n",
            "|1000001|    1000|  R|4620114.0| 519791.0|2021-01-02 15:13:25|     1|   Gazole| 1252|\n",
            "|1000001|    1000|  R|4620114.0| 519791.0|2021-01-04 09:28:43|     1|   Gazole| 1268|\n",
            "|1000001|    1000|  R|4620114.0| 519791.0|2021-01-06 09:29:19|     1|   Gazole| 1268|\n",
            "|1000001|    1000|  R|4620114.0| 519791.0|2021-01-06 15:45:51|     1|   Gazole| 1268|\n",
            "|1000001|    1000|  R|4620114.0| 519791.0|2021-01-07 09:44:40|     1|   Gazole| 1273|\n",
            "+-------+--------+---+---------+---------+-------------------+------+---------+-----+\n",
            "only showing top 5 rows\n",
            "\n"
          ]
        }
      ]
    },
    {
      "cell_type": "code",
      "source": [
        "df_Price2022a=df_Price2022a.withColumn('price',col(\"price\") * 1000)\n",
        "df_Price2022a.show(5)"
      ],
      "metadata": {
        "colab": {
          "base_uri": "https://localhost:8080/"
        },
        "id": "e24JJcFgkrAr",
        "outputId": "30e69355-e210-41b5-b3bc-ac92fafa0df0"
      },
      "execution_count": 12,
      "outputs": [
        {
          "output_type": "stream",
          "name": "stdout",
          "text": [
            "+-------+--------+---+---------+---------+-------------------+------+---------+------+\n",
            "| id_pdv|zip_code|pop| latitude|longitude|               date|gas_id|gas_label| price|\n",
            "+-------+--------+---+---------+---------+-------------------+------+---------+------+\n",
            "|1000001|    1000|  R|4620100.0| 519800.0|2022-01-03 08:44:18|     1|   Gazole|1572.0|\n",
            "|1000001|    1000|  R|4620100.0| 519800.0|2022-01-05 10:08:11|     1|   Gazole|1560.0|\n",
            "|1000001|    1000|  R|4620100.0| 519800.0|2022-01-10 10:09:08|     1|   Gazole|1603.0|\n",
            "|1000001|    1000|  R|4620100.0| 519800.0|2022-01-17 12:34:42|     1|   Gazole|1616.0|\n",
            "|1000001|    1000|  R|4620100.0| 519800.0|2022-01-17 12:34:44|     1|   Gazole|1616.0|\n",
            "+-------+--------+---+---------+---------+-------------------+------+---------+------+\n",
            "only showing top 5 rows\n",
            "\n"
          ]
        }
      ]
    },
    {
      "cell_type": "code",
      "source": [
        "df_Price2022b=df_Price2022b.withColumn('price',col(\"price\") * 1000)\n",
        "df_Price2022b.show(5)"
      ],
      "metadata": {
        "colab": {
          "base_uri": "https://localhost:8080/"
        },
        "id": "PZN1K-LckuM_",
        "outputId": "3b05158d-75e1-4fde-d02c-ef6a242f992f"
      },
      "execution_count": 13,
      "outputs": [
        {
          "output_type": "stream",
          "name": "stdout",
          "text": [
            "+-------+--------+---+---------+---------+-------------------+------+---------+------+\n",
            "| id_pdv|zip_code|pop| latitude|longitude|               date|gas_id|gas_label| price|\n",
            "+-------+--------+---+---------+---------+-------------------+------+---------+------+\n",
            "|1000001|    1000|  R|4620100.0| 519800.0|2022-07-01 11:23:43|     1|   Gazole|2090.0|\n",
            "|1000001|    1000|  R|4620100.0| 519800.0|2022-07-05 09:59:49|     1|   Gazole|2090.0|\n",
            "|1000001|    1000|  R|4620100.0| 519800.0|2022-07-09 09:24:59|     1|   Gazole|1952.0|\n",
            "|1000001|    1000|  R|4620100.0| 519800.0|2022-07-11 11:07:30|     1|   Gazole|1937.0|\n",
            "|1000001|    1000|  R|4620100.0| 519800.0|2022-07-13 10:57:17|     1|   Gazole|1948.0|\n",
            "+-------+--------+---+---------+---------+-------------------+------+---------+------+\n",
            "only showing top 5 rows\n",
            "\n"
          ]
        }
      ]
    },
    {
      "cell_type": "code",
      "source": [
        "df_Price2023=df_Price2023.withColumn('price',col(\"price\") * 1000)\n",
        "df_Price2023.show(5)"
      ],
      "metadata": {
        "colab": {
          "base_uri": "https://localhost:8080/"
        },
        "id": "cpLzfY1RkxGw",
        "outputId": "783e749c-1be8-496c-b0cb-05849e4268e3"
      },
      "execution_count": 14,
      "outputs": [
        {
          "output_type": "stream",
          "name": "stdout",
          "text": [
            "+-------+--------+---+---------+---------+-------------------+------+---------+------+\n",
            "| id_pdv|zip_code|pop| latitude|longitude|               date|gas_id|gas_label| price|\n",
            "+-------+--------+---+---------+---------+-------------------+------+---------+------+\n",
            "|1000001|    1000|  R|4620100.0| 519800.0|2023-01-02 07:53:26|     1|   Gazole|1867.0|\n",
            "|1000001|    1000|  R|4620100.0| 519800.0|2023-01-05 09:33:37|     1|   Gazole|1877.0|\n",
            "|1000001|    1000|  R|4620100.0| 519800.0|2023-01-09 14:51:49|     1|   Gazole|1875.0|\n",
            "|1000001|    1000|  R|4620100.0| 519800.0|2023-01-11 09:23:54|     1|   Gazole|1859.0|\n",
            "|1000001|    1000|  R|4620100.0| 519800.0|2023-01-13 09:07:40|     1|   Gazole|1862.0|\n",
            "+-------+--------+---+---------+---------+-------------------+------+---------+------+\n",
            "only showing top 5 rows\n",
            "\n"
          ]
        }
      ]
    },
    {
      "cell_type": "markdown",
      "source": [
        "Time to connect all these dataframes into a single dataframe"
      ],
      "metadata": {
        "id": "CrGkYcy_LGSS"
      }
    },
    {
      "cell_type": "code",
      "source": [
        "## concatenate the Prices dataframes\n",
        "from functools import reduce\n",
        "from pyspark.sql import DataFrame\n",
        "# List of DataFrames\n",
        "dfs = [df_Price2019, df_Price2020, df_Price2021, df_Price2022a, df_Price2022b, df_Price2023]\n",
        "\n",
        "# Use the reduce function to iteratively apply union to all DataFrames\n",
        "df_concatenated = reduce(DataFrame.union, dfs)\n",
        "\n",
        "# Show the resulting concatenated DataFrame\n",
        "df_concatenated.show(10)"
      ],
      "metadata": {
        "colab": {
          "base_uri": "https://localhost:8080/"
        },
        "id": "SNXTmh3aOYU_",
        "outputId": "c614eccb-a8f5-47ef-9c7d-5bcab8028d7e"
      },
      "execution_count": 15,
      "outputs": [
        {
          "output_type": "stream",
          "name": "stdout",
          "text": [
            "+-------+--------+---+---------+---------+-------------------+------+---------+------+\n",
            "| id_pdv|zip_code|pop| latitude|longitude|               date|gas_id|gas_label| price|\n",
            "+-------+--------+---+---------+---------+-------------------+------+---------+------+\n",
            "|1000001|    1000|  R|4620114.0| 519791.0|2019-01-04 10:53:48|     1|   Gazole|1328.0|\n",
            "|1000001|    1000|  R|4620114.0| 519791.0|2019-01-07 10:25:25|     1|   Gazole|1348.0|\n",
            "|1000001|    1000|  R|4620114.0| 519791.0|2019-01-10 08:54:28|     1|   Gazole|1374.0|\n",
            "|1000001|    1000|  R|4620114.0| 519791.0|2019-01-11 10:01:54|     1|   Gazole|1387.0|\n",
            "|1000001|    1000|  R|4620114.0| 519791.0|2019-01-14 11:04:53|     1|   Gazole|1394.0|\n",
            "|1000001|    1000|  R|4620114.0| 519791.0|2019-01-16 10:21:21|     1|   Gazole|1394.0|\n",
            "|1000001|    1000|  R|4620114.0| 519791.0|2019-01-17 08:30:12|     1|   Gazole|1391.0|\n",
            "|1000001|    1000|  R|4620114.0| 519791.0|2019-01-18 10:08:25|     1|   Gazole|1401.0|\n",
            "|1000001|    1000|  R|4620114.0| 519791.0|2019-01-21 10:30:12|     1|   Gazole|1401.0|\n",
            "|1000001|    1000|  R|4620114.0| 519791.0|2019-01-21 10:30:14|     1|   Gazole|1401.0|\n",
            "+-------+--------+---+---------+---------+-------------------+------+---------+------+\n",
            "only showing top 10 rows\n",
            "\n"
          ]
        }
      ]
    },
    {
      "cell_type": "code",
      "source": [
        "# merge Prices dataframe with stations\n",
        "\n",
        "common_columns=[\"id_pdv\", \"zip_code\", \"pop\", \"latitude\",\"longitude\"]\n",
        "\n",
        "df_result = df_concatenated.join(df_Stations, on=common_columns, how=\"outer\")\n",
        "\n",
        "# merge Prices dataframe with services\n",
        "\n",
        "common_columns=[\"id_pdv\", \"zip_code\", \"pop\", \"latitude\",\"longitude\"]\n",
        "\n",
        "df_gas = df_result.join(df_Services, on=common_columns, how=\"outer\")\n",
        "\n",
        "# Show the resulting DataFrame\n",
        "#df_gas.show()"
      ],
      "metadata": {
        "id": "bK-NaS9PQUlh"
      },
      "execution_count": 16,
      "outputs": []
    },
    {
      "cell_type": "code",
      "source": [
        "## split time and year\n",
        "from pyspark.sql.functions import year, month, weekofyear, col, to_date\n",
        "df_gas = df_gas.withColumn(\"timestamp\", to_date(col(\"date\")))\n",
        "\n",
        "# Split the date into year, month, and week of the year\n",
        "df_gas = df_gas.withColumn(\"year\", year(\"timestamp\"))\n",
        "df_gas = df_gas.withColumn(\"month\", month(\"timestamp\"))\n",
        "df_gas = df_gas.withColumn(\"week_of_year\", weekofyear(\"timestamp\"))\n",
        "\n",
        "## it seems that all data are string type. so i will change them to the real types\n",
        "df_gas.summary()\n",
        "\n",
        "from pyspark.sql.functions import col\n",
        "from pyspark.sql.types import IntegerType, DoubleType\n",
        "\n",
        "columns_to_convert = [\"id_pdv\", \"zip_code\",  \"latitude\", \"longitude\", \"price\", \"year\", \"month\", \"week_of_year\"]\n",
        "target_data_types = [IntegerType(), IntegerType(),  DoubleType(), DoubleType(), IntegerType(), IntegerType(), IntegerType(), IntegerType()]\n",
        "\n",
        "# Apply the cast operation to change data types\n",
        "for col_name, target_type in zip(columns_to_convert, target_data_types):\n",
        "    df_gas = df_gas.withColumn(col_name, col(col_name).cast(target_type))\n",
        "\n",
        "# Show the resulting DataFrame\n",
        "df_gas.printSchema()\n",
        "#df_gas.show(5)\n"
      ],
      "metadata": {
        "colab": {
          "base_uri": "https://localhost:8080/"
        },
        "id": "LFiNY39ijqPj",
        "outputId": "e27c687f-47b9-4b34-f630-1157f817aee1"
      },
      "execution_count": 17,
      "outputs": [
        {
          "output_type": "stream",
          "name": "stdout",
          "text": [
            "root\n",
            " |-- id_pdv: integer (nullable = true)\n",
            " |-- zip_code: integer (nullable = true)\n",
            " |-- pop: string (nullable = true)\n",
            " |-- latitude: double (nullable = true)\n",
            " |-- longitude: double (nullable = true)\n",
            " |-- date: timestamp (nullable = true)\n",
            " |-- gas_id: integer (nullable = true)\n",
            " |-- gas_label: string (nullable = true)\n",
            " |-- price: integer (nullable = true)\n",
            " |-- address: string (nullable = true)\n",
            " |-- city: string (nullable = true)\n",
            " |-- services: string (nullable = true)\n",
            " |-- timestamp: date (nullable = true)\n",
            " |-- year: integer (nullable = true)\n",
            " |-- month: integer (nullable = true)\n",
            " |-- week_of_year: integer (nullable = true)\n",
            "\n"
          ]
        }
      ]
    },
    {
      "cell_type": "code",
      "source": [
        "# converting latitude and longitude\n",
        "\n",
        "df_gas=df_gas.withColumn(\"longitude\", col(\"longitude\") / 1e5)\n",
        "df_gas= df_gas.withColumn(\"latitude\", col(\"latitude\") / 1e5)\n",
        "#df_gas.show(10)"
      ],
      "metadata": {
        "id": "Lm76sc-WkzNA"
      },
      "execution_count": 18,
      "outputs": []
    },
    {
      "cell_type": "code",
      "source": [
        "## see the gas labels, the average price and standard deviation of gas\n",
        "\n",
        "df_gas.groupBy('gas_label').agg({'price' : 'mean'}).show()\n",
        "\n",
        "df_gas.groupBy('gas_label').agg({'price' : 'stddev'}).show()\n",
        "\n",
        "# count the number that each label appears in the dataframe\n",
        "df_gas.groupBy('gas_label').count().show()"
      ],
      "metadata": {
        "colab": {
          "base_uri": "https://localhost:8080/"
        },
        "id": "4Ohis5L8szbX",
        "outputId": "1a7af0ea-b176-4be8-ac0d-4ca15a897e0c"
      },
      "execution_count": 19,
      "outputs": [
        {
          "output_type": "stream",
          "name": "stdout",
          "text": [
            "+---------+------------------+\n",
            "|gas_label|        avg(price)|\n",
            "+---------+------------------+\n",
            "|      E10|1628.2710115788761|\n",
            "|     SP98|1711.4766606480578|\n",
            "|     NULL|              NULL|\n",
            "|      E85| 841.5693985206469|\n",
            "|   Gazole| 1597.148563452008|\n",
            "|     SP95|1640.5942364973107|\n",
            "|     GPLc| 898.2866171465688|\n",
            "+---------+------------------+\n",
            "\n",
            "+---------+------------------+\n",
            "|gas_label|     stddev(price)|\n",
            "+---------+------------------+\n",
            "|      E10|225.61798880875426|\n",
            "|     SP98|229.87353712065726|\n",
            "|     NULL|              NULL|\n",
            "|      E85|182.26540903944084|\n",
            "|   Gazole|260.71211914208703|\n",
            "|     SP95|226.16458926053318|\n",
            "|     GPLc|100.72609713297445|\n",
            "+---------+------------------+\n",
            "\n",
            "+---------+-------+\n",
            "|gas_label|  count|\n",
            "+---------+-------+\n",
            "|      E10|5534734|\n",
            "|     SP98|5543363|\n",
            "|     NULL|  18882|\n",
            "|      E85|1620438|\n",
            "|   Gazole|6671688|\n",
            "|     SP95|1641710|\n",
            "|     GPLc| 957591|\n",
            "+---------+-------+\n",
            "\n"
          ]
        }
      ]
    },
    {
      "cell_type": "markdown",
      "source": [
        "From the mean and the count of appearances I have decided to remove the \"GPLc\" and \"SP95\" types.  "
      ],
      "metadata": {
        "id": "YrACe3MY36DZ"
      }
    },
    {
      "cell_type": "code",
      "source": [
        "df_gas = df_gas.filter(~col(\"gas_label\").isin(\"NULL\", \"E85\",\"GPLc\"))\n"
      ],
      "metadata": {
        "id": "zLhxnIB512nJ"
      },
      "execution_count": 20,
      "outputs": []
    },
    {
      "cell_type": "markdown",
      "source": [
        "## Data Preparation Step 2"
      ],
      "metadata": {
        "id": "MMiK9nCr4tnP"
      }
    },
    {
      "cell_type": "code",
      "source": [
        "## find the average price per day per gas type\n",
        "from pyspark.sql.functions import col, avg\n",
        "\n",
        "avg_price_per_gas = df_gas.groupBy('gas_label','timestamp').agg(avg('price').alias('avg_day_prices'))\n",
        "\n",
        "# Show the result\n",
        "#avg_price_per_gas.show(10)"
      ],
      "metadata": {
        "id": "JhcYF7IV4A-h"
      },
      "execution_count": 21,
      "outputs": []
    },
    {
      "cell_type": "code",
      "source": [
        "# join the new column to the dataframe\n",
        "df_gas = df_gas.join(avg_price_per_gas, on=['gas_label', 'timestamp'], how='left')\n",
        "\n",
        "# Show the result\n",
        "#df_gas.show()\n"
      ],
      "metadata": {
        "id": "PQnlxH15oqXj"
      },
      "execution_count": 22,
      "outputs": []
    },
    {
      "cell_type": "code",
      "source": [
        "## create new column price index\n",
        "df_gas = df_gas.withColumn(\"price_index\", 100 * ((col(\"price\") - col(\"avg_day_prices\")) / col(\"avg_day_prices\")) + 1)\n",
        "\n",
        "# Show the result\n",
        "df_gas.show(10)"
      ],
      "metadata": {
        "colab": {
          "base_uri": "https://localhost:8080/"
        },
        "id": "OTZdDNrlJrUl",
        "outputId": "11fcc0c9-6660-4140-f1ce-7cef19764bef"
      },
      "execution_count": 23,
      "outputs": [
        {
          "output_type": "stream",
          "name": "stdout",
          "text": [
            "+---------+----------+-------+--------+---+--------+---------+-------------------+------+-----+-------+----+--------+----+-----+------------+------------------+--------------------+\n",
            "|gas_label| timestamp| id_pdv|zip_code|pop|latitude|longitude|               date|gas_id|price|address|city|services|year|month|week_of_year|    avg_day_prices|         price_index|\n",
            "+---------+----------+-------+--------+---+--------+---------+-------------------+------+-----+-------+----+--------+----+-----+------------+------------------+--------------------+\n",
            "|   Gazole|2019-01-07|1000001|    1000|  R|46.20114|  5.19791|2019-01-07 10:25:25|     1| 1348|   NULL|NULL|    NULL|2019|    1|           2| 1388.583114150447| -1.9226276581417538|\n",
            "|   Gazole|2019-01-04|1000001|    1000|  R|46.20114|  5.19791|2019-01-04 10:53:48|     1| 1328|   NULL|NULL|    NULL|2019|    1|           1|1386.5670557146002|  -3.223889170972426|\n",
            "|   Gazole|2019-01-18|1000001|    1000|  R|46.20114|  5.19791|2019-01-18 10:08:25|     1| 1401|   NULL|NULL|    NULL|2019|    1|           3|1417.5566502463055|-0.16797097621662616|\n",
            "|   Gazole|2019-01-14|1000001|    1000|  R|46.20114|  5.19791|2019-01-14 11:04:53|     1| 1394|   NULL|NULL|    NULL|2019|    1|           3|1407.1589618815897| 0.06485605123147542|\n",
            "|   Gazole|2019-01-17|1000001|    1000|  R|46.20114|  5.19791|2019-01-17 08:30:12|     1| 1391|   NULL|NULL|    NULL|2019|    1|           3| 1421.542105263158|  -1.148519213752305|\n",
            "|   Gazole|2019-01-11|1000001|    1000|  R|46.20114|  5.19791|2019-01-11 10:01:54|     1| 1387|   NULL|NULL|    NULL|2019|    1|           2|  1401.01008492569|1.136577601590360...|\n",
            "|   Gazole|2019-01-16|1000001|    1000|  R|46.20114|  5.19791|2019-01-16 10:21:21|     1| 1394|   NULL|NULL|    NULL|2019|    1|           3|  1419.00581915846| -0.7622069494605579|\n",
            "|   Gazole|2019-01-21|1000001|    1000|  R|46.20114|  5.19791|2019-01-21 10:30:12|     1| 1401|   NULL|NULL|    NULL|2019|    1|           4|1426.6912168344006|  -0.800755239203429|\n",
            "|   Gazole|2019-01-21|1000001|    1000|  R|46.20114|  5.19791|2019-01-21 10:30:14|     1| 1401|   NULL|NULL|    NULL|2019|    1|           4|1426.6912168344006|  -0.800755239203429|\n",
            "|   Gazole|2019-01-21|1000001|    1000|  R|46.20114|  5.19791|2019-01-21 13:44:25|     1| 1401|   NULL|NULL|    NULL|2019|    1|           4|1426.6912168344006|  -0.800755239203429|\n",
            "+---------+----------+-------+--------+---+--------+---------+-------------------+------+-----+-------+----+--------+----+-----+------------+------------------+--------------------+\n",
            "only showing top 10 rows\n",
            "\n"
          ]
        }
      ]
    },
    {
      "cell_type": "code",
      "source": [
        "# here i wanted to check if the prices are correct and to avoid having extreme outliers\n",
        "#df_gas.describe('price').show()"
      ],
      "metadata": {
        "colab": {
          "base_uri": "https://localhost:8080/"
        },
        "id": "sSoHiKsOvbqQ",
        "outputId": "175b8881-b202-4c65-f467-c4b0429cd2f6"
      },
      "execution_count": 24,
      "outputs": [
        {
          "output_type": "stream",
          "name": "stdout",
          "text": [
            "+-------+------------------+\n",
            "|summary|             price|\n",
            "+-------+------------------+\n",
            "|  count|          19391495|\n",
            "|   mean| 1642.392203076658|\n",
            "| stddev|243.87771881039163|\n",
            "|    min|                 1|\n",
            "|    max|              9999|\n",
            "+-------+------------------+\n",
            "\n"
          ]
        }
      ]
    },
    {
      "cell_type": "code",
      "source": [
        "df_gas.describe('week_of_year').show() #checked the actual number of weeks per year that i will use it for the week index (maximum value 53)"
      ],
      "metadata": {
        "id": "LQEO-1rjv5E5"
      },
      "execution_count": 25,
      "outputs": []
    },
    {
      "cell_type": "code",
      "source": [
        "df_gas.describe('price_index').show()"
      ],
      "metadata": {
        "colab": {
          "base_uri": "https://localhost:8080/"
        },
        "id": "kXLmh_altdf8",
        "outputId": "2ad1a698-4815-4c21-b594-6a0a06307e96"
      },
      "execution_count": 25,
      "outputs": [
        {
          "output_type": "stream",
          "name": "stdout",
          "text": [
            "+-------+------------------+\n",
            "|summary|       price_index|\n",
            "+-------+------------------+\n",
            "|  count|          19391495|\n",
            "|   mean|0.9999999999997222|\n",
            "| stddev| 4.883744769066138|\n",
            "|    min|-98.94902310467094|\n",
            "|    max| 498.9728924930767|\n",
            "+-------+------------------+\n",
            "\n"
          ]
        }
      ]
    },
    {
      "cell_type": "code",
      "source": [
        "## create the week index variable\n",
        "\n",
        "df_gas = df_gas.withColumn(\"week_index\", (col(\"year\") - 2019) * 53 + col(\"week_of_year\"))\n",
        "\n",
        "df_gas.describe('week_index').show()"
      ],
      "metadata": {
        "colab": {
          "base_uri": "https://localhost:8080/"
        },
        "id": "NEillisdtEGE",
        "outputId": "dd669ec3-6bfc-45b0-d8f0-dfc5ed2d01fb"
      },
      "execution_count": 26,
      "outputs": [
        {
          "output_type": "stream",
          "name": "stdout",
          "text": [
            "+-------+------------------+\n",
            "|summary|        week_index|\n",
            "+-------+------------------+\n",
            "|  count|          19391495|\n",
            "|   mean|135.26360953603628|\n",
            "| stddev| 76.70317113245953|\n",
            "|    min|                 1|\n",
            "|    max|               264|\n",
            "+-------+------------------+\n",
            "\n"
          ]
        }
      ]
    },
    {
      "cell_type": "markdown",
      "source": [
        "## Data Visualisation"
      ],
      "metadata": {
        "id": "UhzXh917buH8"
      }
    },
    {
      "cell_type": "code",
      "source": [
        "### compute a new variable that represents the average price per week for each type\n",
        "avg_price_per_week = df_gas.groupBy('gas_label', 'week_index').agg(avg('price').alias('weekly_avg_price'))\n",
        "avg_price_per_week.show()"
      ],
      "metadata": {
        "colab": {
          "base_uri": "https://localhost:8080/"
        },
        "id": "W0VyYgIlbtfa",
        "outputId": "43d9669a-7adf-4cd3-8080-f6bb4f3af2c6"
      },
      "execution_count": 27,
      "outputs": [
        {
          "output_type": "stream",
          "name": "stdout",
          "text": [
            "+---------+----------+------------------+\n",
            "|gas_label|week_index|  weekly_avg_price|\n",
            "+---------+----------+------------------+\n",
            "|      E10|        38|1490.7732591676968|\n",
            "|     SP95|        51|1530.6510704419888|\n",
            "|      E10|        22|1568.1277464514874|\n",
            "|   Gazole|        20|1495.4959804121609|\n",
            "|     SP95|        19|1578.4510569105692|\n",
            "|     SP95|        34|1490.0085112737047|\n",
            "|   Gazole|        14|1475.5626392230242|\n",
            "|   Gazole|        49|1466.0890288573216|\n",
            "|   Gazole|        36|1420.6468662301215|\n",
            "|     SP95|        32|1507.7538944723617|\n",
            "|     SP95|         7| 1446.824758629811|\n",
            "|     SP98|        10| 1544.464182655799|\n",
            "|   Gazole|         4| 1430.798795278137|\n",
            "|   Gazole|        10|1474.4341013006615|\n",
            "|      E10|        21|1574.4628433691105|\n",
            "|     SP95|        28|1522.1304032842309|\n",
            "|     SP95|         9|1473.2158631834097|\n",
            "|      E10|        39| 1495.364907998498|\n",
            "|     SP98|        15|1631.1609724332538|\n",
            "|     SP98|        30|1592.7536245483977|\n",
            "+---------+----------+------------------+\n",
            "only showing top 20 rows\n",
            "\n"
          ]
        }
      ]
    },
    {
      "cell_type": "code",
      "source": [
        "#convert it to pandas so as to do the visualization part\n",
        "avg_price_per_week = df_gas.groupBy('gas_label', 'week_index').agg(avg('price').alias('weekly_avg_price')).toPandas()"
      ],
      "metadata": {
        "id": "tFqAaaIMmPIv"
      },
      "execution_count": 28,
      "outputs": []
    },
    {
      "cell_type": "code",
      "source": [
        "import seaborn as sns\n",
        "import matplotlib.pyplot as plt\n",
        "import pandas as pd\n",
        "\n",
        "g = sns.FacetGrid(avg_price_per_week, col='gas_label', col_wrap=6)\n",
        "g.map(sns.lineplot, 'week_index', 'weekly_avg_price', marker='o')\n",
        "\n",
        "# Customize the plot\n",
        "g.set_axis_labels(\"Week Index\", \"Average Price\")\n",
        "g.set_titles(col_template=\"{col_name}\")\n",
        "g.add_legend()\n",
        "\n",
        "\n",
        "# Show the plot\n",
        "plt.show()"
      ],
      "metadata": {
        "colab": {
          "base_uri": "https://localhost:8080/",
          "height": 245
        },
        "id": "uw5qhtNIiOSh",
        "outputId": "7b082dd8-0aa1-4278-c582-be898c2111fa"
      },
      "execution_count": 29,
      "outputs": [
        {
          "output_type": "display_data",
          "data": {
            "text/plain": [
              "<Figure size 1811.11x300 with 4 Axes>"
            ],
            "image/png": "[encoded data removed]"
          },
          "metadata": {}
        }
      ]
    },
    {
      "cell_type": "markdown",
      "source": [
        "The plots present the weekly evolution of the price of each gas type."
      ],
      "metadata": {
        "id": "ihOgGacjMsdU"
      }
    },
    {
      "cell_type": "markdown",
      "source": [
        "## Modeling-Forecasting next day price"
      ],
      "metadata": {
        "id": "xUXODTFLHJyk"
      }
    },
    {
      "cell_type": "markdown",
      "source": [
        "Variable that will be forecasted : price"
      ],
      "metadata": {
        "id": "LZcU3uvSSvCZ"
      }
    },
    {
      "cell_type": "markdown",
      "source": [
        "For the prediction of the price the variables that will be used are:\n",
        "\n",
        "1) id_pdv: the point of sales\n",
        "\n",
        "2) gas_id: the four (remaining) types of gas\n",
        "\n",
        "3) avg_day_prices: average price in a day for a gas type\n",
        "\n",
        "4) week_index: the number of each week\n",
        "\n",
        "5) lag_price_1: new variable representing the lag price for the previous day\n",
        "\n",
        "6) lag_price_2: new variable representing the lag price for two days ago"
      ],
      "metadata": {
        "id": "Xb91AnojTq_J"
      }
    },
    {
      "cell_type": "code",
      "source": [
        "from pyspark.ml.feature import VectorAssembler\n",
        "from pyspark.ml.regression import LinearRegression\n",
        "from pyspark.ml import Pipeline\n",
        "from pyspark.ml.evaluation import RegressionEvaluator\n",
        "from pyspark.sql import functions as F\n",
        "from pyspark.sql.window import Window\n",
        "from pyspark.ml.feature import StringIndexer, OneHotEncoder, Imputer"
      ],
      "metadata": {
        "id": "SSLwUdPqWtJR"
      },
      "execution_count": 30,
      "outputs": []
    },
    {
      "cell_type": "code",
      "source": [
        "# order the rows by date\n",
        "df_gas = df_gas.orderBy('date')"
      ],
      "metadata": {
        "id": "Z82n7VM1W5pj"
      },
      "execution_count": 31,
      "outputs": []
    },
    {
      "cell_type": "code",
      "source": [
        "# Define the lag window specification\n",
        "lagged_window = Window.partitionBy(\"gas_label\",'id_pdv').orderBy(\"date\")\n",
        "\n",
        "# Include lag features for the last two days\n",
        "for i in range(1, 3):\n",
        "    lag_col = f\"lag_price_{i}\"\n",
        "    df_gas = df_gas.withColumn(lag_col, F.lag(col(\"price\"), i).over(lagged_window))"
      ],
      "metadata": {
        "id": "cyg7tu6HiOIY"
      },
      "execution_count": 32,
      "outputs": []
    },
    {
      "cell_type": "code",
      "source": [
        "# drop na values from the dataframe and show the data frame with the two lag values included\n",
        "df_gas = df_gas.na.drop()\n",
        "#df_gas.show(10)"
      ],
      "metadata": {
        "colab": {
          "base_uri": "https://localhost:8080/"
        },
        "id": "fgG0-BHAiOFT",
        "outputId": "1a8c5c32-a1e5-478b-f600-0d5b3838e0ab"
      },
      "execution_count": 33,
      "outputs": [
        {
          "output_type": "stream",
          "name": "stdout",
          "text": [
            "+---------+----------+-------+--------+---+-------------+-----------------+-------------------+------+-----+--------------------+---------------+--------------------+----+-----+------------+------------------+-------------------+----------+-----------+-----------+\n",
            "|gas_label| timestamp| id_pdv|zip_code|pop|     latitude|        longitude|               date|gas_id|price|             address|           city|            services|year|month|week_of_year|    avg_day_prices|        price_index|week_index|lag_price_1|lag_price_2|\n",
            "+---------+----------+-------+--------+---+-------------+-----------------+-------------------+------+-----+--------------------+---------------+--------------------+----+-----+------------+------------------+-------------------+----------+-----------+-----------+\n",
            "|      E10|2019-01-03|1000013|    1000|  R|46.1985183794|5.243506378809999|2019-01-03 00:01:00|     5| 1319|BOULEVARD CHARLES...|Bourg-en-Bresse|Carburant additiv...|2019|    1|           1|1392.3583937198068| -4.268643048419702|         1|       1319|       1319|\n",
            "|      E10|2019-01-04|1000013|    1000|  R|46.1985183794|5.243506378809999|2019-01-04 00:01:00|     5| 1319|BOULEVARD CHARLES...|Bourg-en-Bresse|Carburant additiv...|2019|    1|           1|1384.9245541838134|-3.7601549113023793|         1|       1319|       1319|\n",
            "|      E10|2019-01-05|1000013|    1000|  R|46.1985183794|5.243506378809999|2019-01-05 00:01:00|     5| 1324|BOULEVARD CHARLES...|Bourg-en-Bresse|Carburant additiv...|2019|    1|           1|1401.2511693171189| -4.513013727208249|         1|       1319|       1319|\n",
            "|      E10|2019-01-06|1000013|    1000|  R|46.1985183794|5.243506378809999|2019-01-06 00:01:00|     5| 1324|BOULEVARD CHARLES...|Bourg-en-Bresse|Carburant additiv...|2019|    1|           1| 1405.983455882353| -4.831039870302213|         1|       1324|       1319|\n",
            "|      E10|2019-01-07|1000013|    1000|  R|46.1985183794|5.243506378809999|2019-01-07 00:01:00|     5| 1324|BOULEVARD CHARLES...|Bourg-en-Bresse|Carburant additiv...|2019|    1|           2|1392.7100770003349|-3.9335520820187444|         2|       1324|       1324|\n",
            "|      E10|2019-01-08|1000013|    1000|  R|46.1985183794|5.243506378809999|2019-01-08 00:01:00|     5| 1325|BOULEVARD CHARLES...|Bourg-en-Bresse|Carburant additiv...|2019|    1|           2|1396.2163302199458|  -4.10066589815112|         2|       1324|       1324|\n",
            "|      E10|2019-01-09|1000013|    1000|  R|46.1985183794|5.243506378809999|2019-01-09 00:01:00|     5| 1357|BOULEVARD CHARLES...|Bourg-en-Bresse|Carburant additiv...|2019|    1|           2|1400.3290831815423|-2.0942071904340342|         2|       1325|       1324|\n",
            "|      E10|2019-01-10|1000013|    1000|  R|46.1985183794|5.243506378809999|2019-01-10 00:01:00|     5| 1357|BOULEVARD CHARLES...|Bourg-en-Bresse|Carburant additiv...|2019|    1|           2|1400.2521237864078| -2.088881141593996|         2|       1357|       1325|\n",
            "|      E10|2019-01-11|1000013|    1000|  R|46.1985183794|5.243506378809999|2019-01-11 00:01:00|     5| 1357|BOULEVARD CHARLES...|Bourg-en-Bresse|Carburant additiv...|2019|    1|           2|1400.7008403361344|-2.1199267593533597|         2|       1357|       1357|\n",
            "|      E10|2019-01-12|1000013|    1000|  R|46.1985183794|5.243506378809999|2019-01-12 00:01:00|     5| 1357|BOULEVARD CHARLES...|Bourg-en-Bresse|Carburant additiv...|2019|    1|           2| 1412.153194765204| -2.905609884937041|         2|       1357|       1357|\n",
            "+---------+----------+-------+--------+---+-------------+-----------------+-------------------+------+-----+--------------------+---------------+--------------------+----+-----+------------+------------------+-------------------+----------+-----------+-----------+\n",
            "only showing top 10 rows\n",
            "\n"
          ]
        }
      ]
    },
    {
      "cell_type": "code",
      "source": [
        "# for the values that we have to put in the vector assembler we have to use onehotencoder for the types of gas\n",
        "gas_id_encoder = OneHotEncoder(inputCol='gas_id', outputCol='gas_id_onehot')\n",
        "\n",
        "# assemble features into a single column\n",
        "op_features = VectorAssembler(inputCols=['id_pdv', 'gas_id_onehot',  'avg_day_prices','week_index','lag_price_1','lag_price_2'],\n",
        "                              outputCol='features')\n"
      ],
      "metadata": {
        "id": "kJZW7QL1ZqS6"
      },
      "execution_count": 42,
      "outputs": []
    },
    {
      "cell_type": "markdown",
      "source": [
        "For the forecasting of the price the Linear Regression model will be used"
      ],
      "metadata": {
        "id": "O7k1fRsaq-w_"
      }
    },
    {
      "cell_type": "code",
      "source": [
        "from pyspark.ml.regression import LinearRegression\n",
        "\n",
        "#split the dataframe into traning set and test set (80% for the training and 20% for the test)\n",
        "train_data, test_data = df_gas.randomSplit([0.8, 0.2], seed=42)\n",
        "\n",
        "# Create a Linear Regression model\n",
        "lr = LinearRegression(labelCol='price', featuresCol='features')\n",
        "\n",
        "# Create a pipeline\n",
        "pipeline = Pipeline(stages=[ gas_id_encoder, op_features, lr])\n",
        "\n",
        "# Fit the model into the training data\n",
        "model = pipeline.fit(train_data)\n",
        "\n",
        "# Make predictions for the test set\n",
        "predictions = model.transform(test_data)"
      ],
      "metadata": {
        "id": "6QPda_v8co5C"
      },
      "execution_count": 37,
      "outputs": []
    },
    {
      "cell_type": "code",
      "source": [
        "# we have predictions ready after the training and it can be shown here in the last column of the dataframe\n",
        "# as we can see the prediction is not really far from the variable 'price'\n",
        "predictions.show(5, truncate = True)\n",
        "\n",
        "# Evaluate the model using Root Mean Squared Error an useful Metric when dealing with continuous numeric outcomes like the ones we have here.\n",
        "evaluator = RegressionEvaluator(labelCol=\"price\", predictionCol=\"prediction\", metricName=\"rmse\")\n",
        "rmse = evaluator.evaluate(predictions) # We evaluate the test dataset on the fitting trained dataset\n",
        "print(f\"Root Mean Squared Error (RMSE): {rmse}\")\n",
        "\n"
      ],
      "metadata": {
        "colab": {
          "base_uri": "https://localhost:8080/"
        },
        "id": "XbOq1z5XzG9R",
        "outputId": "fb3dcb8f-5b1a-45ae-a73d-7e8324589196"
      },
      "execution_count": 38,
      "outputs": [
        {
          "output_type": "stream",
          "name": "stdout",
          "text": [
            "+---------+----------+--------+--------+---+--------+---------+-------------------+------+-----+----------------------------+----------+---------------------------------------------------------------------------------------------------------------------------------------------------------------------------------------------------------------------------------------------------------------------------+----+-----+------------+------------------+-------------------+----------+-----------+-----------+-------------+--------------------------------------------------------------------------+------------------+\n",
            "|gas_label|timestamp |id_pdv  |zip_code|pop|latitude|longitude|date               |gas_id|price|address                     |city      |services                                                                                                                                                                                                                                                                   |year|month|week_of_year|avg_day_prices    |price_index        |week_index|lag_price_1|lag_price_2|gas_id_onehot|features                                                                  |prediction        |\n",
            "+---------+----------+--------+--------+---+--------+---------+-------------------+------+-----+----------------------------+----------+---------------------------------------------------------------------------------------------------------------------------------------------------------------------------------------------------------------------------------------------------------------------------+----+-----+------------+------------------+-------------------+----------+-----------+-----------+-------------+--------------------------------------------------------------------------+------------------+\n",
            "|E10      |2019-01-03|1130003 |1130    |R  |46.158  |5.604    |2019-01-03 00:01:00|5     |1352 |RTE DE LA CLUSE RN 84       |NANTUA    |Boutique alimentaire,Boutique non alimentaire,Station de gonflage,Carburant additivé,Piste poids lourds,Lavage automatique,Vente de gaz domestique (Butane, Propane),Automate CB 24/24,DAB (Distributeur automatique de billets)                                           |2019|1    |1           |1392.3583937198068|-1.8985636099040462|1         |1349       |1349       |(6,[5],[1.0])|(11,[0,6,7,8,9,10],[1130003.0,1.0,1392.3583937198068,1.0,1349.0,1349.0])  |1355.9813971482401|\n",
            "|E10      |2019-01-03|14400010|14400   |R  |49.2849 |-0.7357  |2019-01-03 00:01:00|5     |1329 |ROUTE NATIONALE 13          |VAUCELLES |Toilettes publiques,Station de gonflage,Location de véhicule,Lavage manuel,Vente de gaz domestique (Butane, Propane)                                                                                                                                                       |2019|1    |1           |1392.3583937198068|-3.5504371579604124|1         |1329       |1329       |(6,[5],[1.0])|(11,[0,6,7,8,9,10],[1.440001E7,1.0,1392.3583937198068,1.0,1329.0,1329.0]) |1340.9115900043573|\n",
            "|E10      |2019-01-03|27200002|27200   |R  |49.07917|1.50597  |2019-01-03 05:39:27|5     |1555 |91 Avenue de l'Île de France|VERNON    |Toilettes publiques,Boutique alimentaire,Station de gonflage,Carburant additivé,Piste poids lourds,Lavage automatique,Services réparation / entretien,Vente de gaz domestique (Butane, Propane)                                                                            |2019|1    |1           |1392.3583937198068|12.681015966419531 |1         |1555       |1455       |(6,[5],[1.0])|(11,[0,6,7,8,9,10],[2.7200002E7,1.0,1392.3583937198068,1.0,1555.0,1455.0])|1494.9379723083748|\n",
            "|E10      |2019-01-03|77260005|77260   |R  |48.937  |3.104    |2019-01-03 09:00:00|5     |1349 |RN 3 ZI DU HAINAULT.        |SEPT-SORTS|Toilettes publiques,Vente de pétrole lampant,Station de gonflage,Location de véhicule,Piste poids lourds,Lavage automatique,Lavage manuel,Vente de gaz domestique (Butane, Propane),Vente d'additifs carburants,Automate CB 24/24,DAB (Distributeur automatique de billets)|2019|1    |1           |1392.3583937198068|-2.114025377041833 |1         |1362       |1349       |(6,[5],[1.0])|(11,[0,6,7,8,9,10],[7.7260005E7,1.0,1392.3583937198068,1.0,1362.0,1349.0])|1367.6418980093933|\n",
            "|E10      |2019-01-03|95100030|95100   |R  |48.95763|2.27971  |2019-01-03 00:01:00|5     |1465 |RUE JACQUES BREL            |ARGENTEUIL|Toilettes publiques,Boutique alimentaire,Boutique non alimentaire,Station de gonflage,Carburant additivé,Lavage automatique,Lavage manuel,Vente de gaz domestique (Butane, Propane),DAB (Distributeur automatique de billets)                                              |2019|1    |1           |1392.3583937198068|6.217162952285926  |1         |1465       |1465       |(6,[5],[1.0])|(11,[0,6,7,8,9,10],[9.510003E7,1.0,1392.3583937198068,1.0,1465.0,1465.0]) |1454.0815458230957|\n",
            "+---------+----------+--------+--------+---+--------+---------+-------------------+------+-----+----------------------------+----------+---------------------------------------------------------------------------------------------------------------------------------------------------------------------------------------------------------------------------------------------------------------------------+----+-----+------------+------------------+-------------------+----------+-----------+-----------+-------------+--------------------------------------------------------------------------+------------------+\n",
            "only showing top 5 rows\n",
            "\n",
            "Root Mean Squared Error (RMSE): 49.335823686370716\n"
          ]
        }
      ]
    },
    {
      "cell_type": "code",
      "source": [
        "# 5. Prediction on a given gas type and station\n",
        "\n",
        "station_to_predict = '17350001'\n",
        "gas_label_to_predict = 'Gazole' # price -> 2.027\n",
        "\n",
        "# Filter new_data for the specific station and gas type\n",
        "new_data_for_prediction = df_gas.filter((col(\"id_pdv\") == station_to_predict) & (col(\"gas_label\") == gas_label_to_predict))\n",
        "\n",
        "# Make predictions on the filtered new data\n",
        "new_predictions = model.transform(new_data_for_prediction)\n",
        "\n",
        "# Show the predictions\n",
        "predictions.select('id_pdv', 'gas_id_onehot',  'avg_day_prices','week_index','lag_price_1','lag_price_2', 'prediction').show()\n",
        "\n"
      ],
      "metadata": {
        "colab": {
          "base_uri": "https://localhost:8080/"
        },
        "id": "ij_RwOE4zToe",
        "outputId": "cdc0964d-a70b-4ee3-a9ef-c5018c24ec01"
      },
      "execution_count": 40,
      "outputs": [
        {
          "output_type": "stream",
          "name": "stdout",
          "text": [
            "+--------+-------------+------------------+----------+-----------+-----------+------------------+\n",
            "|  id_pdv|gas_id_onehot|    avg_day_prices|week_index|lag_price_1|lag_price_2|        prediction|\n",
            "+--------+-------------+------------------+----------+-----------+-----------+------------------+\n",
            "| 1130003|(6,[5],[1.0])|1392.3583937198068|         1|       1349|       1349|1355.9813971482401|\n",
            "|14400010|(6,[5],[1.0])|1392.3583937198068|         1|       1329|       1329|1340.9115900043573|\n",
            "|27200002|(6,[5],[1.0])|1392.3583937198068|         1|       1555|       1455|1494.9379723083748|\n",
            "|77260005|(6,[5],[1.0])|1392.3583937198068|         1|       1362|       1349|1367.6418980093933|\n",
            "|95100030|(6,[5],[1.0])|1392.3583937198068|         1|       1465|       1465|1454.0815458230957|\n",
            "| 1390009|(6,[5],[1.0])|1384.9245541838134|         1|       1568|       1568|1528.4700415541606|\n",
            "|22170004|(6,[5],[1.0])|1384.9245541838134|         1|       1343|       1347| 1351.951967119378|\n",
            "|54300011|(6,[5],[1.0])|1384.9245541838134|         1|       1355|       1356|1362.7089936453083|\n",
            "|95100035|(6,[5],[1.0])|1384.9245541838134|         1|       1362|       1362|1370.5623805258506|\n",
            "| 1000013|(6,[5],[1.0])|1401.2511693171189|         1|       1319|       1319| 1334.077410746352|\n",
            "| 1130003|(6,[5],[1.0])|1401.2511693171189|         1|       1359|       1352| 1364.034544979258|\n",
            "| 6600001|(6,[5],[1.0])|1401.2511693171189|         1|       1335|       1335|1347.1478719697864|\n",
            "|14000020|(6,[5],[1.0])|1401.2511693171189|         1|       1339|       1347|  1352.90654795415|\n",
            "|28000011|(6,[5],[1.0])|1401.2511693171189|         1|       1328|       1328|1342.9218117264402|\n",
            "|87500003|(6,[5],[1.0])|1401.2511693171189|         1|       1450|       1450| 1443.635239876521|\n",
            "| 1130003|(6,[5],[1.0])| 1405.983455882353|         1|       1353|       1359|1363.7424165167438|\n",
            "|37700010|(6,[5],[1.0])| 1405.983455882353|         1|       1438|       1433|1430.6969516991883|\n",
            "|54300011|(6,[5],[1.0])|1392.7100770003349|         2|       1352|       1352| 1361.737516470913|\n",
            "|95100030|(6,[5],[1.0])|1392.7100770003349|         2|       1465|       1465|1454.1258663720466|\n",
            "| 1390009|(6,[5],[1.0])|1396.2163302199458|         2|       1568|       1568| 1530.918574349258|\n",
            "+--------+-------------+------------------+----------+-----------+-----------+------------------+\n",
            "only showing top 20 rows\n",
            "\n"
          ]
        }
      ]
    },
    {
      "cell_type": "code",
      "source": [
        "# finally we can see the predictions on the filtered new data\n",
        "new_predictions.show(10)"
      ],
      "metadata": {
        "colab": {
          "base_uri": "https://localhost:8080/"
        },
        "id": "pjYlT5mnzbsx",
        "outputId": "fd4116c1-ce43-45b6-8795-361dcb43fc36"
      },
      "execution_count": 41,
      "outputs": [
        {
          "output_type": "stream",
          "name": "stdout",
          "text": [
            "+---------+----------+--------+--------+---+---------------+-------------------+-------------------+------+-----+--------------------+-------+--------------------+----+-----+------------+------------------+-----------------+----------+-----------+-----------+-------------+--------------------+------------------+\n",
            "|gas_label| timestamp|  id_pdv|zip_code|pop|       latitude|          longitude|               date|gas_id|price|             address|   city|            services|year|month|week_of_year|    avg_day_prices|      price_index|week_index|lag_price_1|lag_price_2|gas_id_onehot|            features|        prediction|\n",
            "+---------+----------+--------+--------+---+---------------+-------------------+-------------------+------+-----+--------------------+-------+--------------------+----+-----+------------+------------------+-----------------+----------+-----------+-----------+-------------+--------------------+------------------+\n",
            "|   Gazole|2019-01-06|17350001|   17350|  A|45.892307179057|-0.6041038262695699|2019-01-06 15:07:18|     1| 1509|A10 AIRE DE FENIO...|Fenioux|Toilettes publiqu...|2019|    1|           1|1407.5541222658442|8.207245258239226|         1|       1509|       1519|(6,[1],[1.0])|(11,[0,2,7,8,9,10...|1490.6045857282736|\n",
            "|   Gazole|2019-01-08|17350001|   17350|  A|45.892307179057|-0.6041038262695699|2019-01-08 07:39:03|     1| 1509|A10 AIRE DE FENIO...|Fenioux|Toilettes publiqu...|2019|    1|           2| 1391.522306108442|9.442386685133226|         2|       1509|       1509|(6,[1],[1.0])|(11,[0,2,7,8,9,10...|1484.4038842772022|\n",
            "|   Gazole|2019-01-09|17350001|   17350|  A|45.892307179057|-0.6041038262695699|2019-01-09 09:30:28|     1| 1509|A10 AIRE DE FENIO...|Fenioux|Toilettes publiqu...|2019|    1|           2| 1393.984145764316|9.250872478368196|         2|       1509|       1509|(6,[1],[1.0])|(11,[0,2,7,8,9,10...|1484.9449020894751|\n",
            "|   Gazole|2019-01-11|17350001|   17350|  A|45.892307179057|-0.6041038262695699|2019-01-11 06:56:23|     1| 1519|A10 AIRE DE FENIO...|Fenioux|Toilettes publiqu...|2019|    1|           2|  1401.01008492569|9.421774856857517|         2|       1509|       1509|(6,[1],[1.0])|(11,[0,2,7,8,9,10...|1486.4889336941249|\n",
            "|   Gazole|2019-01-11|17350001|   17350|  A|45.892307179057|-0.6041038262695699|2019-01-11 10:53:39|     1| 1519|A10 AIRE DE FENIO...|Fenioux|Toilettes publiqu...|2019|    1|           2|  1401.01008492569|9.421774856857517|         2|       1519|       1509|(6,[1],[1.0])|(11,[0,2,7,8,9,10...|1491.7944235617144|\n",
            "+---------+----------+--------+--------+---+---------------+-------------------+-------------------+------+-----+--------------------+-------+--------------------+----+-----+------------+------------------+-----------------+----------+-----------+-----------+-------------+--------------------+------------------+\n",
            "only showing top 5 rows\n",
            "\n"
          ]
        }
      ]
    },
    {
      "cell_type": "code",
      "source": [
        "# convert the df to pandas to make the plot\n",
        "predictions_pd = new_predictions.select('price', 'prediction').toPandas()\n",
        "# Scatter plot for the actual and predicted results\n",
        "plt.scatter(predictions_pd['price'], predictions_pd['prediction'], color='blue', label='Actual vs. Predicted')\n",
        "plt.plot([min(predictions_pd['price']), max(predictions_pd['price'])], [min(predictions_pd['price']), max(predictions_pd['price'])], linestyle='--', color='red', label='Perfect Prediction Line')\n",
        "plt.title('Actual vs. Predicted Prices')\n",
        "plt.xlabel('Actual Prices')\n",
        "plt.ylabel('Predicted Prices')\n",
        "plt.legend()\n",
        "plt.show()"
      ],
      "metadata": {
        "colab": {
          "base_uri": "https://localhost:8080/",
          "height": 472
        },
        "id": "3eaYz--SEJwR",
        "outputId": "55321c4c-e5e9-49e2-d39b-a04ab69891f7"
      },
      "execution_count": 46,
      "outputs": [
        {
          "output_type": "display_data",
          "data": {
            "text/plain": [
              "<Figure size 640x480 with 1 Axes>"
            ],
            "image/png": "[encoded data removed]"
          },
          "metadata": {}
        }
      ]
    },
    {
      "cell_type": "markdown",
      "source": [
        "With this plot we can witness that the points that represent the actual and predicted price are really close to the perfect prediction Line, so we can say that the forecasting provided reasonable results."
      ],
      "metadata": {
        "id": "OJfNQrTUHQte"
      }
    }
  ]
}